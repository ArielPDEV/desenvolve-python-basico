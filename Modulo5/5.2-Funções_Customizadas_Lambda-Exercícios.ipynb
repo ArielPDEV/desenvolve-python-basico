{
  "metadata": {
    "kernelspec": {
      "name": "python",
      "display_name": "Python (Pyodide)",
      "language": "python"
    },
    "language_info": {
      "codemirror_mode": {
        "name": "python",
        "version": 3
      },
      "file_extension": ".py",
      "mimetype": "text/x-python",
      "name": "python",
      "nbconvert_exporter": "python",
      "pygments_lexer": "ipython3",
      "version": "3.8"
    }
  },
  "nbformat_minor": 5,
  "nbformat": 4,
  "cells": [
    {
      "id": "cbdff5a5",
      "cell_type": "markdown",
      "source": "# Módulo 5 - Funções\n\n## Aulas 5.2 - Funções Customizadas e 5.4 Funções ```lambda```",
      "metadata": {}
    },
    {
      "id": "28a3fee2",
      "cell_type": "markdown",
      "source": "### Q1.\n\n- Sabendo que o código a seguir calcula o fatorial de n, escreva uma função chamada ```fatorial()``` que recebe um inteiro ```n``` como parâmetro e retorna o resultado do fatorial de ```n```. \n- No programa principal, peça ao usuário o valor de ```n```, chame a sua função e imprima o retorno.\n\n```python\nfat = 1\nfor i in range(1, n+1):\n    fat *= i \n```",
      "metadata": {}
    },
    {
      "id": "d126b3a5",
      "cell_type": "code",
      "source": "## Crie aqui a função fatorial()\n## lembre-se de executar a célula para que \n## a função passe a existir e possa ser chamada\ndef fatorial(x):\n    fat = 1\n    count = 1\n    while count < x + 1:\n        fat *= count\n        count += 1\n    return fat",
      "metadata": {
        "trusted": true
      },
      "outputs": [],
      "execution_count": 1
    },
    {
      "id": "6e4fe64e",
      "cell_type": "code",
      "source": "## Escreva aqui o programa principal e execute a célula\nn = int(input(\"Digite um número \"))\nfat = fatorial(n)\nprint(f\"O fatoral de {n} é igual a {fat}\")",
      "metadata": {
        "trusted": true
      },
      "outputs": [
        {
          "output_type": "stream",
          "name": "stdin",
          "text": "Digite um número  5\n"
        },
        {
          "name": "stdout",
          "output_type": "stream",
          "text": "O fatoral de 5 é igual a 120\n"
        }
      ],
      "execution_count": 2
    },
    {
      "id": "c0a1f599",
      "cell_type": "markdown",
      "source": "### Q2.\n\n- Escreva uma função em Python chamada ```soma_quadrados``` que recebe dois números como parâmetros e retorna a soma dos seus quadrados. \n- No programa principal solicite ao usuário que insira dois números e utilize a função para exibir a soma dos quadrados.",
      "metadata": {}
    },
    {
      "id": "6dbddaad",
      "cell_type": "code",
      "source": "## Crie aqui a função soma_quadrados()\ndef soma_quadrados(x, y):\n    resul = (x**2) + (y**2)\n    return resul",
      "metadata": {
        "trusted": true
      },
      "outputs": [],
      "execution_count": 3
    },
    {
      "id": "9175a7da",
      "cell_type": "code",
      "source": "## Escreva aqui o programa principal e execute a célula\nval1 = int(input(\"Qual o primeiro valor \"))\nval2 = int(input(\"Qual o segundo valor \"))\nsoma = soma_quadrados(val1, val2)\nprint(f\"A soma dos quadrados dos valores é {soma}\")",
      "metadata": {
        "trusted": true
      },
      "outputs": [
        {
          "output_type": "stream",
          "name": "stdin",
          "text": "Qual o primeiro valor  5\nQual o segundo valor  3\n"
        },
        {
          "name": "stdout",
          "output_type": "stream",
          "text": "A soma dos quadrados dos valores é 34\n"
        }
      ],
      "execution_count": 4
    },
    {
      "id": "6ba34ce0",
      "cell_type": "markdown",
      "source": "### Q3.\n\n- Crie uma função em Python chamada ```soma_digitos``` que recebe um número inteiro como parâmetro e retorna a soma dos seus dígitos. Por exemplo, para o número 123, a função deve retornar 6, $(1 + 2 + 3)$.\n    - O desafio aqui é separar os dígitos de um número inteiro usando operações aritméticas <br> <br>\n\n- No programa principal solicite ao usuário que insira um número e utilize a função ```soma_digitos``` para calcular e exibir a soma dos seus dígitos.",
      "metadata": {}
    },
    {
      "id": "34838ebf",
      "cell_type": "code",
      "source": "## Crie aqui a função soma_digitos()\ndef soma_digitos(x):\n    dig = 0\n    resul = 0\n    while x > 0:\n        dig = x % 10\n        x -= dig\n        x /= 10\n        resul += dig\n    return int(resul)",
      "metadata": {
        "trusted": true
      },
      "outputs": [],
      "execution_count": 2
    },
    {
      "id": "27c35b21",
      "cell_type": "code",
      "source": "## Escreva aqui o programa principal e execute a célula\nn = int(input(\"Digite um número: \"))\nres = soma_digitos(n)\nprint(f\"A soma dos algarismos de {n} é {res}\")",
      "metadata": {
        "trusted": true
      },
      "outputs": [
        {
          "output_type": "stream",
          "name": "stdin",
          "text": "Digite um número:  174\n"
        },
        {
          "name": "stdout",
          "output_type": "stream",
          "text": "A soma dos algarismos de 174 é 12\n"
        }
      ],
      "execution_count": 4
    },
    {
      "id": "c318b159",
      "cell_type": "markdown",
      "source": "### Q4.\n\n- Crie a função ```inverteValor()``` que recebe um inteiro de qualquer tamanho e retorna esse valor invertido usando apenas operações aritméticas\n- Crie a função ```verificaInverso()``` que recebe o valor original e o valor invertido e retorna verdadeiro se ambos forem igualmente par ou igualmente ímpar. Retorne falso caso contrário.\n- No programa principal, peça um valor do usuário e imprima o retorno de ambas as funções.\n",
      "metadata": {}
    },
    {
      "id": "e4e47d1d",
      "cell_type": "code",
      "source": "## Crie aqui as funções inverteValor() e verificaInverso()\ndef invertVal(x):\n    resul = \"\"\n    while x > 0:\n        soma = x % 10\n        x -= soma\n        x /= 10\n        resul += str(int(soma))\n    return resul\n\ndef verificaVal(x, y):\n    result = ((x % 2) == (y % 2))\n    return result",
      "metadata": {
        "trusted": true
      },
      "outputs": [],
      "execution_count": 7
    },
    {
      "id": "a9514e56",
      "cell_type": "code",
      "source": "## Escreva aqui o programa principal e execute a célula\nn = int(input(\"Digite um número: \"))\nres = invertVal(n)\nprint(f\"O número {n} ao contrário é {res}\")\nigual = verificaVal(n, int(res))\nprint(\"Os números\", \"são mutuamente pares ou impares\" if igual == True else \"não são mutuamente pares ou impares\")",
      "metadata": {
        "trusted": true
      },
      "outputs": [
        {
          "output_type": "stream",
          "name": "stdin",
          "text": "Digite um número:  286\n"
        },
        {
          "name": "stdout",
          "output_type": "stream",
          "text": "O número 286 ao contrário é 682\nOs números são mutuamente pares ou impares\n"
        }
      ],
      "execution_count": 8
    },
    {
      "id": "329be966",
      "cell_type": "markdown",
      "source": "### Q5.\n\nVocê está desenvolvendo um programa para auxiliar em cálculos de geometria básica. Crie as seguintes funções:\n- A função ```calcula_perimetro_triangulo()``` que recebe três inteiros correspondentes aos lados de um triângulo e retorna o perímetro do triângulo, ou seja, a soma dos seus lados.\n- A função ```calcula_perimetro_circulo()``` que recebe um inteiro referente ao raio do círculo e retorna o perímetro do círculo, dado por $2 \\pi r$. Use a constante $\\pi$ da biblioteca ```math```.\n- A função ```calcula_perimetro_retangulo()``` que possui um parâmetro obrigatório ```lado1``` e um opcional ```lado2```, ambos inteiros. Se o valor opcional não for fornecido, significa que se trata de um quadrado. Sua função deve calcular e retornar o perímetro do retângulo, ou seja, a soma de seus lados. \n    - Para o quadrado, é dado por $4 \\times lado1$\n    - Para o retângulo é dado por $2 \\times lado1 + 2 \\times lado2$\n    \n- No programa principal apresente um menu com as opções disponíveis do seu sistema e uma quarta opção ```Sair```. Solicite ao usuário a opção desejada, solicite as entradas correspondentes à opção escolhida, invoque a respective função e apresente o seu retorno. Seu programa deve retornar ao menu até que o usuário escolha a opção ```Sair```\n\nExemplo de interação:\n```\n1 - Calcular perímetro triângulo\n2 - Calcular perímetro círculo\n3 - Calcular perímetro retângulo\n4 - Sair\n\nOpção: 1\nDigite os três lados do triângulo:\n3\n4\n5\nO perímetro é: 12\n\n1 - Calcular perímetro triângulo\n2 - Calcular perímetro círculo\n3 - Calcular perímetro retângulo\n4 - Sair\n\nOpção: 3\nInforme os dois lados do retângulo. Se for um quadrado, digite 0 para o segundo valor:\n5\n0\nO perímetro é: 20\n\n1 - Calcular perímetro triângulo\n2 - Calcular perímetro círculo\n3 - Calcular perímetro retângulo\n4 - Sair\n\nOpção: 4\n```",
      "metadata": {}
    },
    {
      "id": "0793d328",
      "cell_type": "code",
      "source": "## Crie aqui as funções \ndef perimetroTriang(x, y, z):\n    perTri = x + y + z\n    return perTri\n\ndef perimetroRetang(x, y):\n    perRet = x * 2 + y * 2\n    return perRet\n\ndef perimetroCirc(x):\n    preCir = x * 2 * math.pi\n    return preCir",
      "metadata": {
        "trusted": true
      },
      "outputs": [],
      "execution_count": 9
    },
    {
      "id": "36269c71",
      "cell_type": "code",
      "source": "## Escreva aqui o programa principal \nresult = 0\nprint(\"1 - Calcular Perimetro do triângulo\")\nprint(\"2 - Calcular Perimetro do retângulo\")\nprint(\"3 - Calcular Perimetro do circulo\")\nprint(\"4 - Sair\")\ntipo = int(input(\"Opção: \"))\nif tipo == 1:\n    med1 = int(input(\"Qual o primeiro lado do triangulo? \"))\n    med2 = int(input(\"Qual o segundo lado do triangulo? \"))\n    med3 = int(input(\"Qual o terceiro lado do triangulo? \"))\n    result = perimetroTriang(med1, med2, med3)\n    print(f\"O perimetro da figura é {result:,.2f}\")\nelif tipo == 2:\n    med1 = int(input(\"Qual o primeiro lado do retangulo? \"))\n    med2 = int(input(\"Qual o segundo lado do retangulo? \"))\n    result = perimetroRetang(med1, med2)\n    print(f\"O perimetro da figura é {result:,.2f}\")\nelif tipo == 3:\n    med1 = int(input(\"Qual o raio do circulo? \"))\n    result = perimetroCirc(med1)\n    print(f\"O perimetro da figura é {result:,.2f}\")\nelif tipo == 4:\n    print(\"\")\nelse:\n    print(\"Forma não suportada\")",
      "metadata": {
        "trusted": true
      },
      "outputs": [
        {
          "name": "stdout",
          "output_type": "stream",
          "text": "1 - Calcular Perimetro do triângulo\n2 - Calcular Perimetro do retângulo\n3 - Calcular Perimetro do circulo\n4 - Sair\n"
        },
        {
          "output_type": "stream",
          "name": "stdin",
          "text": "Opção:  1\nQual o primeiro lado do triangulo?  5\nQual o segundo lado do triangulo?  4\nQual o terceiro lado do triangulo?  6\n"
        },
        {
          "name": "stdout",
          "output_type": "stream",
          "text": "O perimetro da figura é 15.00\n"
        }
      ],
      "execution_count": 10
    },
    {
      "id": "3016bcc7",
      "cell_type": "markdown",
      "source": "## Funções ```lambda```",
      "metadata": {}
    },
    {
      "id": "f9cdb8dd",
      "cell_type": "markdown",
      "source": "### Q6.\n\nCrie uma função lambda para verificar se um número é par ou ímpar. Em seguida, solicite ao usuário um número indefinidos de valores (até que o usuário digite 0). Para cada valor de entrada, informe se é par ou ímpar.\n\nExemplo de interação:\n```\nDigite os valores que deseja verificar a paridade (digite 0 para finalizar a entrada de dados):\n3\nímpar\n8\npar\n12\npar\n5\nímpar\n7\nímpar\n```",
      "metadata": {}
    },
    {
      "id": "e3c31a78",
      "cell_type": "code",
      "source": "print(\"Digite os valores que deseja verificar a paridade (digite 0 para finalizar a entrada de dados):\")\nval = 1\npar = lambda x:x%2 == 0 \nwhile val != 0:\n    val = int(input(\"\"))\n    print(\"O valor é \", \"par\" if par(val) else \"impar\")",
      "metadata": {
        "trusted": true
      },
      "outputs": [
        {
          "name": "stdout",
          "output_type": "stream",
          "text": "Digite os valores que deseja verificar a paridade (digite 0 para finalizar a entrada de dados):\n"
        },
        {
          "output_type": "stream",
          "name": "stdin",
          "text": " 4\n"
        },
        {
          "name": "stdout",
          "output_type": "stream",
          "text": "O valor é  par\n"
        },
        {
          "output_type": "stream",
          "name": "stdin",
          "text": " 6\n"
        },
        {
          "name": "stdout",
          "output_type": "stream",
          "text": "O valor é  par\n"
        },
        {
          "output_type": "stream",
          "name": "stdin",
          "text": " 5\n"
        },
        {
          "name": "stdout",
          "output_type": "stream",
          "text": "O valor é  impar\n"
        },
        {
          "output_type": "stream",
          "name": "stdin",
          "text": " 3\n"
        },
        {
          "name": "stdout",
          "output_type": "stream",
          "text": "O valor é  impar\n"
        },
        {
          "output_type": "stream",
          "name": "stdin",
          "text": " 8\n"
        },
        {
          "name": "stdout",
          "output_type": "stream",
          "text": "O valor é  par\n"
        },
        {
          "output_type": "stream",
          "name": "stdin",
          "text": " 9\n"
        },
        {
          "name": "stdout",
          "output_type": "stream",
          "text": "O valor é  impar\n"
        },
        {
          "output_type": "stream",
          "name": "stdin",
          "text": " 7\n"
        },
        {
          "name": "stdout",
          "output_type": "stream",
          "text": "O valor é  impar\n"
        },
        {
          "output_type": "stream",
          "name": "stdin",
          "text": " 1\n"
        },
        {
          "name": "stdout",
          "output_type": "stream",
          "text": "O valor é  impar\n"
        },
        {
          "output_type": "stream",
          "name": "stdin",
          "text": " 2\n"
        },
        {
          "name": "stdout",
          "output_type": "stream",
          "text": "O valor é  par\n"
        },
        {
          "output_type": "stream",
          "name": "stdin",
          "text": " 15\n"
        },
        {
          "name": "stdout",
          "output_type": "stream",
          "text": "O valor é  impar\n"
        },
        {
          "output_type": "stream",
          "name": "stdin",
          "text": " 0\n"
        },
        {
          "name": "stdout",
          "output_type": "stream",
          "text": "O valor é  par\n"
        }
      ],
      "execution_count": 12
    },
    {
      "id": "5a87474d",
      "cell_type": "markdown",
      "source": "### Q7.\n\nEscreva um programa que pergunte ao usuário qual operação ele deseja: maior ou menor.\nEm seguida leia uma quantidade indefinida de valores do usuário, até que o usuário digite o valor zero.\nApresente ao final o maior ou menor dos valores digitados de acordo com a escolha do usuário.\n\n**Sua solução deve incluir pelo menos uma função ```lambda```** \n\nExemplo de interação:\n```\nOpções: (1) maior ou (2) menor?\nOpção: 1\n\nDigite os valores de entrada. Digite 0 para finalizar a entrada de valores.\n4\n12\n15\n1\n0\n\nO maior valor é: 15\n```",
      "metadata": {}
    },
    {
      "id": "ee3f68ca",
      "cell_type": "code",
      "source": "## Escreva aqui o programa principal \nimport math\nmaior = lambda x, y:x if x > y else y\nmenor = lambda x, y:x if x < y else y\nvalOld1 = -math.inf\nvalOld2 = math.inf\nbig = -math.inf\nlow = math.inf\nstop = 1\nprint(\"Opções: (1) Maior - (2) Menor\")\nop = int(input(\"Opção: \"))\nif op == 1:\n    print(\"Quais os valores a serem comparados?\")\n    while stop != 0:\n        val = int(input())\n        if val == 0:\n            stop = 0\n        big = maior(big, valOld1)\n        valOld1 = val\n    print(\"O maior valor é \", big)\nif op == 2:\n    print(\"Quais os valores a serem comparados?\")\n    while stop != 0:\n        val = int(input())\n        if val == 0:\n            stop = 0\n        low = menor(low, valOld2)\n        valOld2 = val\n    print(\"O maior valor é \", low)",
      "metadata": {
        "trusted": true
      },
      "outputs": [
        {
          "name": "stdout",
          "output_type": "stream",
          "text": "Opções: (1) Maior - (2) Menor\n"
        },
        {
          "output_type": "stream",
          "name": "stdin",
          "text": "Opção:  1\n"
        },
        {
          "name": "stdout",
          "output_type": "stream",
          "text": "Quais os valores a serem comparados?\n"
        },
        {
          "output_type": "stream",
          "name": "stdin",
          "text": " -25\n -15\n 100\n 10\n 12\n 50\n 0\n"
        },
        {
          "name": "stdout",
          "output_type": "stream",
          "text": "O maior valor é  100\n"
        }
      ],
      "execution_count": 13
    },
    {
      "id": "179f981a-6813-4e02-85f9-2d72627e5673",
      "cell_type": "code",
      "source": "",
      "metadata": {
        "trusted": true
      },
      "outputs": [],
      "execution_count": null
    }
  ]
}
