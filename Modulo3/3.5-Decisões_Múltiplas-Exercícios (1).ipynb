{
  "metadata": {
    "kernelspec": {
      "name": "python",
      "display_name": "Python (Pyodide)",
      "language": "python"
    },
    "language_info": {
      "codemirror_mode": {
        "name": "python",
        "version": 3
      },
      "file_extension": ".py",
      "mimetype": "text/x-python",
      "name": "python",
      "nbconvert_exporter": "python",
      "pygments_lexer": "ipython3",
      "version": "3.8"
    }
  },
  "nbformat_minor": 5,
  "nbformat": 4,
  "cells": [
    {
      "id": "559687a1",
      "cell_type": "markdown",
      "source": "# Módulo 3 - Condicionais\n\n## 3.5 - Decisões Múltiplas",
      "metadata": {}
    },
    {
      "id": "42f823b3",
      "cell_type": "markdown",
      "source": "### Q1.\n\nVamos fazer uma calculadora! Escreva um programa que solicita 3 entradas: o primeiro operando (float), o operador (caracter) e o segundo operando (float). Seu programa deve imprimir o resultado da operação solicitada, entre soma (+), subtração (-), divisão (/), multiplicação (\\*) ou potência (\\*\\*). Seu programa também deve imprimir uma mensagem de erro se a operação solicitada não estiver dentre as opções disponíveis.\n\nSeguem alguns exemplos de interação com seu código no terminal. \n\n\n```\nDigite o primeiro operando: 5.2\nDigite o operador (+, -, /, *, **): *\nDigite o segundo operando` 3\nResultado: 5.2 * 3.0 = 15.6\n```\n\n```\nDigite o primeiro operando: 8\nDigite o operador (+, -, /, *, **): **\nDigite o segundo operando: 2\nResultado: 8.0 * 2.0 = 64.0\n```\n\n```\nDigite o primeiro operando: 7\nDigite o operador (+, -, /, *, **): %\nDigite o segundo operando: 3.4\nErro! Operação inválida. \n```\n\n```\nDigite o primeiro operando: 10\nDigite o operador (+, -, /, *, **): /\nDigite o segundo operando: 2.5\nResultado: 10.0 / 2.5 = 4.0\n```\n\n",
      "metadata": {}
    },
    {
      "id": "c5b8cd4d",
      "cell_type": "code",
      "source": "## Escreva e execute seu código aqui\nnum1 = float(input(\"Qual o primeiro valor? \"))\noperacao = input(\"Qual é a operação desejada? (+, -, /, *, **) \")\nnum2 = float(input(\"Qual o segundo valor? \"))\nif operacao == \"+\":\n    resultado = num1 + num2\nif operacao == \"-\":\n    resultado = num1 - num2\nif operacao == \"/\":\n    resultado = num1 / num2\nif operacao == \"*\":\n    resultado = num1 * num2\nif operacao == \"**\":\n    resultado = num1 ** num2\nif operacao != \"+\" or operacao != \"-\" or operacao != \"*\" or operacao != \"/\" or operacao != \"**\":\n    print(\"Operação invalida\")\nprint(\"O resultado da sua equação é \", resultado)",
      "metadata": {
        "trusted": true
      },
      "outputs": [],
      "execution_count": null
    },
    {
      "id": "d135df39",
      "cell_type": "markdown",
      "source": "### Q2.\n\nEscreva um programa que leia os comprimentos dos 3 lados de um triângulo e diga se o triângulo é equilátero, isóceles ou escaleno. Regras:\n- Isóceles: Quaisquer dois lados com o mesmo comprimento\n- Equilátero: Os três lados tem o mesmo comprimento\n- Escaleno: Três lados de comprimento diferente \n\nNote que a ordem das condições importa! Seguem alguns exemplos de interação com seu código no terminal. \n\n```\nDigite o comprimento do lado 1: 4\nDigite o comprimento do lado 2: 4\nDigite o comprimento do lado 3: 6\nTriângulo: Isóceles\n```\n\n```\nDigite o comprimento do lado 1: 5\nDigite o comprimento do lado 2: 5\nDigite o comprimento do lado 3: 5\nTriângulo: Equilátero\n```\n\n```\nDigite o comprimento do lado 1: 7\nDigite o comprimento do lado 2: 4\nDigite o comprimento do lado 3: 9\nTriângulo: Escaleno\n```\n\n",
      "metadata": {}
    },
    {
      "id": "cfcf9a80",
      "cell_type": "code",
      "source": "## Escreva e execute seu código aqui\nlado1 = input(\"Qual o primeiro lado do triangulo? \")\nlado2 = input(\"Qual o segundo lado do triangulo? \")\nlado3 = input(\"Qual o terceiro lado do triangulo? \")\nigual12 = lado1 == lado2\nigual13 = lado1 == lado3\nigual23 = lado2 == lado3\nif igual12 == 1 and igual13 == 1:\n    print(\"Triangulo: Equilátero\")\nif (igual12 != igual23) or (igual13 != igual23):\n    print(\"Triangulo: Isóceles\")\nif igual12 == 0 and igual13 == 0 and igual23 == 0:\n    print(\"Triangulo: Escaleno\")",
      "metadata": {
        "trusted": true
      },
      "outputs": [
        {
          "output_type": "stream",
          "name": "stdin",
          "text": "Qual o primeiro lado do triangulo?  5\nQual o segundo lado do triangulo?  5\nQual o terceiro lado do triangulo?  2\n"
        },
        {
          "name": "stdout",
          "output_type": "stream",
          "text": "Triangulo: Equilátero\n"
        }
      ],
      "execution_count": 6
    },
    {
      "id": "ed3405fb",
      "cell_type": "markdown",
      "source": "### Q3.\n\nVocê está desenvolvendo um sistema de avaliação de desempenho para um jogo. Escreva um programa em Python que avalia a pontuação do jogador em uma missão e atribui uma classificação com base nas seguintes condições:\n\n- Se a pontuação for menor que 70, atribua a classificação \"Insatisfatório\".\n- Se a pontuação for maior ou igual a 70, atribua a classificação \"Regular\".\n- Se a pontuação for maior ou igual a 80, atribua a classificação \"Bom\".\n- Se a pontuação for maior ou igual a 90, atribua a classificação \"Excelente\".\n\nEscreva um programa que solicita ao usuário a pontuação e imprime a classificação correspondente.",
      "metadata": {}
    },
    {
      "id": "a7a842ae",
      "cell_type": "code",
      "source": "## Escreva e execute seu código aqui\npontuacao = int(input(\"Qual a sua pontuação? \"))\nif pontuacao < 70;\n    print(\"Sua classificação é: Insatisfatório\")\nelif pontuacao >= 70 and pontuacao < 80;\n    print(\"Sua classificação é: Regular\")\nelif pontuacao >= 80 and pontuacao < 90;\n    print(\"Sua classificação é: Bom\")\nelif pontuacao >= 90;\n    print(\"Sua classificação é: Excelente\")",
      "metadata": {},
      "outputs": [],
      "execution_count": null
    },
    {
      "id": "6cafaa50",
      "cell_type": "markdown",
      "source": "### Q4.\n\nVocê está implementando um sistema de desconto em uma loja online. Escreva um programa em Python que calcula o desconto com base no valor total da compra e atribui diferentes níveis de desconto de acordo com as seguintes condições:\n\n- Se o valor total da compra for menor que R\\$ 50, não há desconto.\n- Se o valor total da compra for maior ou igual a R\\$ 50, atribua um desconto de 10%.\n- Se o valor total da compra for maior ou igual a R\\$ 100, atribua um desconto de 20%.\n\n\nSeguem alguns exemplos de interação com seu código no terminal. Preste atenção na formatação esperada para as saídas.\n\n```\nDigite o valor total da compra: 120\nDesconto aplicado: 20.0%\nValor final com desconto: R$96.00\n```\n\n```\nDigite o valor total da compra: 65\nDesconto aplicado: 10.0%\nValor final com desconto: R$58.50\n```\n\n```\nDigite o valor total da compra: 40\nDesconto aplicado: 0.0%\nValor final com desconto: R$40.00\n```\n\n\n",
      "metadata": {}
    },
    {
      "id": "3b1b1929",
      "cell_type": "code",
      "source": "## Escreva e execute seu código aqui\nvalor = float(input(\"Qual o valor da compra? \"))\nif valor < 50:\n    print(f\"O valor da compra com desconto é {valor * 1:,.2f}\")\nelif valor < 100:\n    print(f\"O valor da compra com desconto é {valor * 0.9:,.2f}\")\nelse:\n    print(f\"O valor da compra com desconto é {valor * 0.8:,.2f}\")",
      "metadata": {},
      "outputs": [],
      "execution_count": null
    },
    {
      "id": "dc5db6d7",
      "cell_type": "markdown",
      "source": "### Q5.\n\nCrie um sistema de autenticação em Python. O sistema deve funcionar da\nseguinte maneira:\n\n1. Um banco de dados fictício deve ser implementado como um dicionário,\nonde a chave é o nome do usuário e o valor é uma tupla contendo a senha e\no nível de acesso do usuário.\n\n2. O programa deve solicitar ao usuário que insira seu usuário e senha.\n\n3. O sistema deve:\n* Verificar se o login existe no banco de dados.\n* Comparar a senha fornecida com a armazenada no banco.\n* Caso as credenciais sejam válidas, exibir uma mensagem de sucesso e o nível de acesso do usuário.\n* Caso seja inválido deverá retornar mensagem: “Erro: Usuário ou\nsenha inválidos.”\n* O programa deve rodar em um laço para permitir múltiplas\ntentativas de login, mas também permitir que o usuário opte por sair\ndo programa.\n\nAtributos dos 3 usuários cadastrados no sistema (usuário, senha e nível)\n\n1) admin – admin123 – Administrador\n2) usuario1 – senha123 – Usuário Comum\n3) visitante1 – guest2024 – Visitante",
      "metadata": {}
    },
    {
      "id": "b90304eb",
      "cell_type": "code",
      "source": "## Escreva e execute seu código aqui\n",
      "metadata": {},
      "outputs": [],
      "execution_count": null
    }
  ]
}