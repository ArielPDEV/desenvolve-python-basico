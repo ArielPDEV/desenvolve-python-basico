{
  "metadata": {
    "kernelspec": {
      "name": "python",
      "display_name": "Python (Pyodide)",
      "language": "python"
    },
    "language_info": {
      "codemirror_mode": {
        "name": "python",
        "version": 3
      },
      "file_extension": ".py",
      "mimetype": "text/x-python",
      "name": "python",
      "nbconvert_exporter": "python",
      "pygments_lexer": "ipython3",
      "version": "3.8"
    }
  },
  "nbformat_minor": 5,
  "nbformat": 4,
  "cells": [
    {
      "id": "0d5035b5",
      "cell_type": "markdown",
      "source": "# Listas\n\n## Aulas 6.1 a 6.5 ",
      "metadata": {}
    },
    {
      "id": "0bdece85",
      "cell_type": "markdown",
      "source": "### Q1. \n\nUsando a função embutida ```map``` e criando uma função ```lambda```, transforme uma lista com os raios de múltiplas circunferências em uma nova lista com as respectivas áreas. O cálculo de cada área é dado por: ```pi*(raio**2)```\n- Use a constante pi da biblioteca math \n- Arredonde o resultado para 2 casas decimais\n",
      "metadata": {}
    },
    {
      "id": "0a258eba",
      "cell_type": "code",
      "source": "import math\nraios = [1.5, 0.8, 2.3, 5.0]\narea = list(map(lambda x:math.pi*(2*x), raios))\narea = list(map(round, area, [2]*len(area)))\nprint(area)",
      "metadata": {
        "trusted": true
      },
      "outputs": [
        {
          "name": "stdout",
          "output_type": "stream",
          "text": "[9.42, 5.03, 14.45, 31.42]\n"
        }
      ],
      "execution_count": 10
    },
    {
      "id": "649a5082",
      "cell_type": "markdown",
      "source": "### Q2. \n\nCrie uma função customizada e aplique a função embutida ```filter``` para operar em uma lista de listas contendo os lados de múltiplos triângulos. Construa uma nova lista contendo apenas os triângulos equiláteros, ou seja, com os três lados iguais.\n",
      "metadata": {}
    },
    {
      "id": "47cb0573",
      "cell_type": "code",
      "source": "## Crie a função customizada\ndef testa_equilatero(lados):\n    return lados[0] == lados[1] and lados[1] == lados[2]\n\n### Usando filter, aplique a função customizada aos seguintes triangulos\ntriangulos  = [[2,2,2], [3,4,5], [3,2,2],[4,4,4]]\nequilatero = []\n#for i in range(len(triangulos)):\n#    equilatero += [testa_equilatero(triangulos[i])]\nequilatero = filter(testa_equilatero, triangulos)\nprint(list(equilatero))",
      "metadata": {
        "trusted": true
      },
      "outputs": [
        {
          "name": "stdout",
          "output_type": "stream",
          "text": "[[2, 2, 2], [4, 4, 4]]\n"
        }
      ],
      "execution_count": 27
    },
    {
      "id": "093b22d7-ea6c-4535-8b36-9fb47a3fede7",
      "cell_type": "code",
      "source": "",
      "metadata": {
        "trusted": true
      },
      "outputs": [],
      "execution_count": null
    },
    {
      "id": "bb62d219",
      "cell_type": "markdown",
      "source": "### Q3. \nCrie uma função chamada ```ordena_por_comprimento``` que aceite uma lista de strings e a ordene com base no comprimento das strings, do menor para o maior. Utilize a função ```sorte``` e uma expressão ```lambda```.",
      "metadata": {}
    },
    {
      "id": "add41556",
      "cell_type": "code",
      "source": "### crie a função ordena_por_comprimento e retorne a lista resultado\nordena_por_comprimento = lambda x:sorted(x, key=len)\n### aplique sua função à seguinte lista e imprima o resultado\nnomes = [\"Joao\", \"Maria\", \"Jose\", \"Gabriela\", \"Sol\", \"Luna\", \"Bento\", \"Enzo\", \"Fernanda\"]\nprint(nomes)\nprint(ordena_por_comprimento(nomes))",
      "metadata": {
        "trusted": true
      },
      "outputs": [
        {
          "name": "stdout",
          "output_type": "stream",
          "text": "['Joao', 'Maria', 'Jose', 'Gabriela', 'Sol', 'Luna', 'Bento', 'Enzo', 'Fernanda']\n['Sol', 'Joao', 'Jose', 'Luna', 'Enzo', 'Maria', 'Bento', 'Gabriela', 'Fernanda']\n"
        }
      ],
      "execution_count": 30
    },
    {
      "id": "8710b1a7",
      "cell_type": "markdown",
      "source": "### Q4.\n\nCrie uma lista de listas (uma matriz de 2 dimensões) de tamanho $n \\times n$, com $n$ dado pelo usuário. Cada elemento da matriz deve ser o produto dos índices da linha pela coluna.\n\nExemplo:\n```\nDigite n: 4\nMatriz:\n[[0, 0, 0, 0],\n [0, 1, 2, 3],\n [0, 2, 4, 6],\n [0, 3, 6, 9]]\n```",
      "metadata": {}
    },
    {
      "id": "0b7ee921",
      "cell_type": "code",
      "source": "# Implemente sua solução aqui\nlinha = []\nmatriz = []\nj = 0\nn = int(input(\"Digite n: \"))\nfor i in range(n):\n    for i in range(n):\n        linha.append(i*j)\n    matriz.append(linha)\n    linha = []\n    j += 1\nprint(\"Matriz: \")\nfor i in range(n):\n    print(matriz[i])",
      "metadata": {
        "trusted": true
      },
      "outputs": [
        {
          "output_type": "stream",
          "name": "stdin",
          "text": "Digite n:  4\n"
        },
        {
          "name": "stdout",
          "output_type": "stream",
          "text": "Matriz: \n[0, 0, 0, 0]\n[0, 1, 2, 3]\n[0, 2, 4, 6]\n[0, 3, 6, 9]\n"
        }
      ],
      "execution_count": 60
    },
    {
      "id": "f41781df",
      "cell_type": "markdown",
      "source": "### Q5.\n\nDada uma lista de números inteiros, implemente uma função em Python chamada ```pares_unicos``` que encontre e retorne todos os pares únicos de elementos na lista cuja soma seja igual a um determinado valor. Considere que a ordem dos pares não é relevante.",
      "metadata": {}
    },
    {
      "id": "7a76f765",
      "cell_type": "code",
      "source": "def pares_unicos(numeros, soma_objetivo):\n    # Implemente sua solução aqui\n    paresBruto = []\n    for i in range(len(numeros)):\n        par = (soma_objetivo - numeros[i])\n        if par in numeros and par not in [numeros[i]]:\n            paresBruto.append(((numeros[i], par) if par > numeros[i] else (par, numeros[i])))\n        pares = set(paresBruto)\n    return pares\n\n# Exemplo de uso:\nnums = [3, 4, 5, 6, 7]\nresultado = []\nsoma = 10\nresultado = pares_unicos(nums, soma)\nprint(resultado)  # Saída esperada: [(3, 7), (4, 6)]",
      "metadata": {
        "trusted": true
      },
      "outputs": [
        {
          "name": "stdout",
          "output_type": "stream",
          "text": "{(3, 7), (4, 6)}\n"
        }
      ],
      "execution_count": 84
    },
    {
      "id": "87e44893",
      "cell_type": "markdown",
      "source": "### Q5.\n\nEscreva um programa para encontrar a diferença entre duas listas, incluindo elementos duplicados.\n\nEx:\n```\nListas originais: \n[1, 1, 2, 3, 3, 4, 4, 5, 6, 7]\n[1, 1, 2, 4, 5, 6]\nDiferença entre as listas:\n[3, 3, 4, 7]\n```",
      "metadata": {}
    },
    {
      "id": "7edc027c",
      "cell_type": "code",
      "source": "# Implemente sua solução aqui\nmaior = lambda x, y:x if len(x) > len(y) else y\nmenor = lambda x, y:x if len(x) < len(y) else y\ndef intersInverso(x:list ,y:list):\n    res = []\n    a = maior(x, y).copy()\n    b = menor(x, y).copy()\n    for i in range(len(a)):\n        if a[i] not in b:\n            res.append(a[i])\n        if a[i] in b:\n            b.remove(a[i])\n    return res\n\nlista1 = [1, 1, 2, 3, 3, 4, 4, 5, 6, 7]\nlista2 = [1, 1, 2, 4, 5, 6]\nprint(\"Listas originais:\")\nprint(lista1)\nprint(lista2)\nlista3 = list(intersInverso(lista1, lista2))\nprint(\"Diferença entre as listas:\")\nprint(lista3)",
      "metadata": {
        "trusted": true
      },
      "outputs": [
        {
          "name": "stdout",
          "output_type": "stream",
          "text": "Listas originais:\n[1, 1, 2, 3, 3, 4, 4, 5, 6, 7]\n[1, 1, 2, 4, 5, 6]\nDiferença entre as listas:\n[3, 3, 4, 7]\n"
        }
      ],
      "execution_count": 85
    },
    {
      "id": "745ed2de-1c3f-4358-abc2-1aab46f1fa0d",
      "cell_type": "code",
      "source": "",
      "metadata": {
        "trusted": true
      },
      "outputs": [],
      "execution_count": null
    },
    {
      "id": "f4c4236d",
      "cell_type": "markdown",
      "source": "### Q6.\n\nDada uma lista aleatória, escreva um programa que separa os valores em listas menores de acordo com o tamanho solicitado. Caso não seja possível repartir igualmente a lista original, a última sublista deve conter os elementos remanescentes, como indicado no exemplo a seguir.\n\nNote que seu programa deve continuar executando em um laço infinito até que o usuário informe o tamanho 0 na entrada solicitada.\n\n```\nLista original:\n[12, 45, 23, 67, 78, 90, 45, 32, 100, 76, 38, 62, 73, 29, 83]\n\nTamanho para divisão: 3\nSubslistas:\n[[12, 45, 23], [67, 78, 90], [45, 32, 100], [76, 38, 62], [73, 29, 83]]\n\nTamanho para divisão: 4\nSubslistas: [[12, 45, 23, 67], [78, 90, 45, 32], [100, 76, 38, 62], [73, 29, 83]]\n\nTamanho para divisão: 0\n```",
      "metadata": {}
    },
    {
      "id": "792563de",
      "cell_type": "code",
      "source": "import random\nlista = [random.randint(1,100) for i in range(20)]\n\n# Implemente sua solução aqui\ndivisão = int(input(\"Qual será o tamanho da sublista? \"))\nsublista = []\nlistaFim = []\nj = 1\nresto = (len(lista) % divisão)\ndigResto = (len(lista)-resto+1)\n\nfor i in range(len(lista)):\n    sublista.append(lista[i])\n    if len(sublista) >= divisão:\n        listaFim.append(sublista)\n        sublista = []\nif resto != 0:\n    listaFim.append(sublista)\nprint(listaFim)",
      "metadata": {
        "trusted": true
      },
      "outputs": [
        {
          "output_type": "stream",
          "name": "stdin",
          "text": "Qual será o tamanho da sublista?  3\n"
        },
        {
          "name": "stdout",
          "output_type": "stream",
          "text": "[[69, 82, 96], [23, 17, 87], [23, 49, 73], [57, 76, 93], [37, 21, 13], [81, 29, 32], [26, 26]]\n"
        }
      ],
      "execution_count": 92
    },
    {
      "id": "c65be32f",
      "cell_type": "markdown",
      "source": "### Q7.\n\nVocê está desenvolvendo um programa para determinar o vencedor de um jogo da velha. Escreva uma função ```avalia_tabuleiro()``` que recebe uma lista representando o estado atual do tabuleiro e determina se há um vencedor. \n\nA lista terá 3 sublistas, cada uma representando uma linha do tabuleiro. Cada elemento das sublistas pode ser 'X', 'O' ou vazio (' ').\n\nO programa deve imprimir o vencedor ('X', 'O'), se houver um, ou \"Empate\" se não houver vencedor. Um vencedor é determinado se houver três 'X' ou três 'O' em linha (horizontal, vertical ou diagonal).\n\nExemplo:\n```python\ntabuleiro = [\n    ['X', 'O', 'X'],\n    [' ', 'X', 'O'],\n    ['O', ' ', 'O']\n]\n```\nO resultado seria \"Empate\", pois não há um vencedor no exemplo fornecido. \n\nExemplo 2:\n```python\ntabuleiro = [\n    ['O', 'X', 'O'],\n    ['X', 'O', 'X'],\n    ['X', ' ', 'O']\n]\n```\nO resultado seria \"O\", pois 'O' venceu na diagonal central.",
      "metadata": {}
    },
    {
      "id": "720ca24d",
      "cell_type": "code",
      "source": "### Escreva a função avalia_tabuleiro()\n\nigualdade = lambda x, y, z: True if x == y and y == z else False\ndef avalia_tabuleiro(x:list):\n    for i in range(3):\n        if igualdade(x[i][0], x[i][1], x[i][2]) and not x[i][0] == ' ':\n                return f\"{x[i][0]} venceu\"\n        if igualdade(x[0][i], x[1][i], x[2][i]) and not x[0][i] == ' ':\n                return f\"{x[0][i]} venceu\"\n    if x[0][0] == x[1][1] and x[1][1] == x[2][2] and not x[1][1] == ' ':\n            return f\"{x[1][1]} venceu\"\n    if x[0][2] == x[1][1] and x[1][1] == x[2][0] and not x[1][1] == ' ':\n            return f\"{x[1][1]} venceu\"\n    return \"empate\"\n\n### teste a função nos seguintes tabuleiros\n\ntabuleiro1 = [\n    ['X', 'O', 'X'],\n    [' ', 'X', 'O'],\n    ['O', ' ', 'X']\n]\n\ntabuleiro2 = [\n    ['X', 'O', 'O'],\n    ['X', 'X', 'O'],\n    ['X', 'O', 'X']\n]\n\ntabuleiro3 = [\n    [' ', ' ', ' '],\n    ['X', ' ', 'O'],\n    ['O', 'X', 'X']\n]\n\ntabuleiro4 = [\n    ['O', 'O', 'O'],\n    ['X', ' ', 'X'],\n    ['O', 'X', 'X']\n]\n\ntabuleiro5 = [\n    ['X', 'X', 'O'],\n    ['X', ' ', 'O'],\n    ['O', 'O', 'X']\n]\n\nprint(avalia_tabuleiro(tabuleiro1))\nprint(avalia_tabuleiro(tabuleiro2))\nprint(avalia_tabuleiro(tabuleiro3))\nprint(avalia_tabuleiro(tabuleiro4))\nprint(avalia_tabuleiro(tabuleiro5))",
      "metadata": {
        "trusted": true
      },
      "outputs": [
        {
          "name": "stdout",
          "output_type": "stream",
          "text": "X venceu\nX venceu\nempate\nO venceu\nempate\n"
        }
      ],
      "execution_count": 93
    },
    {
      "id": "cf25691b-1aae-46b1-a26c-fb440e25b5e7",
      "cell_type": "code",
      "source": "",
      "metadata": {
        "trusted": true
      },
      "outputs": [],
      "execution_count": null
    }
  ]
}