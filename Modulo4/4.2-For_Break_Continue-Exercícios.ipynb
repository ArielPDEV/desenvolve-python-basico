{
  "metadata": {
    "kernelspec": {
      "name": "python",
      "display_name": "Python (Pyodide)",
      "language": "python"
    },
    "language_info": {
      "codemirror_mode": {
        "name": "python",
        "version": 3
      },
      "file_extension": ".py",
      "mimetype": "text/x-python",
      "name": "python",
      "nbconvert_exporter": "python",
      "pygments_lexer": "ipython3",
      "version": "3.8"
    }
  },
  "nbformat_minor": 5,
  "nbformat": 4,
  "cells": [
    {
      "id": "29e89030",
      "cell_type": "markdown",
      "source": "# Módulo 4 - Repetições\n\n## Aulas 4.2 - Comando ```for``` e 4.3 Break e Continue",
      "metadata": {}
    },
    {
      "id": "a45b42df",
      "cell_type": "markdown",
      "source": "### Q1.\n\nCrie um programa em Python que utilize o comando for para imprimir os números de 10 a 1, em ordem decrescente.",
      "metadata": {}
    },
    {
      "id": "55a75b3d",
      "cell_type": "code",
      "source": "## Escreva e execute seu código aqui\nfor i in range(10,0,-1):\n    print(i)",
      "metadata": {
        "trusted": true
      },
      "outputs": [
        {
          "name": "stdout",
          "output_type": "stream",
          "text": "10\n9\n8\n7\n6\n5\n4\n3\n2\n1\n"
        }
      ],
      "execution_count": 1
    },
    {
      "id": "94b47c36",
      "cell_type": "markdown",
      "source": "### Q2.\n\nDado um número inteiro positivo informado pelo usuário, crie um programa em Python que utilize o comando for para calcular e exibir a soma dos números de 1 até o número informado. Ou seja, $1 + 2 + 3 + ... + n$\n\nExemplo de interação:\n```\nDigite um número: 5\nA soma dos números de 1 a 5 é 15\n```\n",
      "metadata": {}
    },
    {
      "id": "45b71596",
      "cell_type": "code",
      "source": "## Escreva e execute seu código aqui\nvalor = int(input(\"Digite um número: \"))\nresul = 0\ncont = 1\nfor soma in range(1, valor + 1):\n    resul += cont\n    cont += 1\nprint(f\"A soma dos números de 1 a {valor} é {resul}\")",
      "metadata": {
        "trusted": true
      },
      "outputs": [
        {
          "output_type": "stream",
          "name": "stdin",
          "text": "Digite um número:  5\n"
        },
        {
          "name": "stdout",
          "output_type": "stream",
          "text": "A soma dos números de 1 a 5 é 15\n"
        }
      ],
      "execution_count": 68
    },
    {
      "id": "0411d170",
      "cell_type": "markdown",
      "source": "### Q3.\n\nEscreva um programa que lê 10 valores inteiros positivos do usuário e ao final imprime a média dos valores digitados com duas casas decimais.\n\n```\nDigite 10 números positivos:\n3\n2\n12\n14\n20\n42\n19\n0\n8\n1\nA média dos valores digitados é 12.10\n```",
      "metadata": {}
    },
    {
      "id": "3f72f358",
      "cell_type": "code",
      "source": "## Escreva e execute seu código aqui\nresul = 0\nprint(\"Digite 10 números positivos\")\nfor i in range(10):\n    val = float(input())\n    resul += val\nresul /= 10\nprint(f\"A média dos valores digitados é {resul:,.2f}\")",
      "metadata": {
        "trusted": true
      },
      "outputs": [
        {
          "name": "stdout",
          "output_type": "stream",
          "text": "Digite 10 números positivos\n"
        },
        {
          "output_type": "stream",
          "name": "stdin",
          "text": " 5\n 10\n 15\n 22\n 0\n 45\n 3\n 2\n 1\n 5\n"
        },
        {
          "name": "stdout",
          "output_type": "stream",
          "text": "A média dos valores digitados é 10.80\n"
        }
      ],
      "execution_count": 69
    },
    {
      "id": "d62e27ff",
      "cell_type": "markdown",
      "source": "### Q4.\n\nVocê vai criar um sistema que registra os resultados dos jogos do Atlético MG ao longo de um campeonato. Seu sistema vai receber os resultados de todos os jogos do Galo, e deve calcular a pontuação do time sabendo que vitórias valem 3 pontos, empates 1 ponto e derrotas 0 pontos.\n\nEntrada: <br>\nA primeira linha de entrada é um inteiro N com a quantidade jogos do galo. Para cada jogo você deve ler 2 inteiros, o primeiro com a quantidade de gols do galo e o segundo com a quantidade de gols do time oponente. \n\nSaída: <br>\nApresente a soma de vitórias, empates e derrotas do galo, junto com o cálculo da pontuação total.\n\nEx:\n```\nEntrada:\n4\n2\n0\n1\n1\n0\n3\n1\n0\n\nSaída:\nVitórias: 2\nEmpates: 1\nDerrotas: 1\nPontuação: 7\n\n```\n\n\n",
      "metadata": {}
    },
    {
      "id": "d3fdfc2a",
      "cell_type": "code",
      "source": "## Escreva e execute seu código aqui\nprint(\"Digite a quantidade de gols do galo e do adversario (Ex: 1 3)\")\njogos = int(input(\"Quantos jogos ouveram? \"))\npoint = 0\nvitoria = 0\nderrota = 0\nempate = 0\nfor i in range(1, jogos + 1):\n    print(f\"Digite o número de gols que o atletico fez e tomou no {i}° jogo\")\n    gol1 = int(input())\n    gol2 = int(input())\n    if gol1 > gol2:\n        vitoria += 1\n        point += 3\n    elif gol1 == gol2:\n        empate += 1\n        point += 1\n    else:\n        derrota += 1\nprint(f\"Vitórias: {vitoria}\")\nprint(f\"Enpates: {empate}\")\nprint(f\"Derrotas: {derrota}\")\nprint(f\"Pontuação: {point}\")",
      "metadata": {
        "trusted": true
      },
      "outputs": [
        {
          "name": "stdout",
          "output_type": "stream",
          "text": "Digite a quantidade de gols do galo e do adversario (Ex: 1 3)\n"
        },
        {
          "output_type": "stream",
          "name": "stdin",
          "text": "Quantos jogos ouveram?  5\n"
        },
        {
          "name": "stdout",
          "output_type": "stream",
          "text": "Digite o número de gols que o atletico fez e tomou no 1° jogo\n"
        },
        {
          "output_type": "stream",
          "name": "stdin",
          "text": " 1\n 5\n"
        },
        {
          "name": "stdout",
          "output_type": "stream",
          "text": "Digite o número de gols que o atletico fez e tomou no 2° jogo\n"
        },
        {
          "output_type": "stream",
          "name": "stdin",
          "text": " 2\n 6\n"
        },
        {
          "name": "stdout",
          "output_type": "stream",
          "text": "Digite o número de gols que o atletico fez e tomou no 3° jogo\n"
        },
        {
          "output_type": "stream",
          "name": "stdin",
          "text": " 5\n 2\n"
        },
        {
          "name": "stdout",
          "output_type": "stream",
          "text": "Digite o número de gols que o atletico fez e tomou no 4° jogo\n"
        },
        {
          "output_type": "stream",
          "name": "stdin",
          "text": " 2\n 2\n"
        },
        {
          "name": "stdout",
          "output_type": "stream",
          "text": "Digite o número de gols que o atletico fez e tomou no 5° jogo\n"
        },
        {
          "output_type": "stream",
          "name": "stdin",
          "text": " 0\n 1\n"
        },
        {
          "name": "stdout",
          "output_type": "stream",
          "text": "Vitórias: 1\nEnpates: 1\nDerrotas: 3\nPontuação: 4\n"
        }
      ],
      "execution_count": 4
    },
    {
      "id": "fc98604d",
      "cell_type": "markdown",
      "source": "### Q5.\n\nFaça um programa que lê dois inteiros N e M, e imprime na tela um campo de batalha naval. O tabuleiro deve possuir N linhas e M colunas. A primeira linha é composta por um espaço em branco e o cabeçalho das colunas, ou seja, valores de 1 a M. As N linhas seguintes iniciam com o cabeçalho da linha, ou seja, seu número, seguido de M caracteres \"/\" (barra) indicando uma possível posição jogável. \n\n```\nEntrada:\n5\n4\n\nSaída:\n  1 2 3 4 \n1 / / / / \n2 / / / / \n3 / / / / \n4 / / / / \n5 / / / / \n```\n\nPara esse exercício, precisamos lembrar que o comando print implicitamente adiciona uma quebra de linha ao final da impressão. Podemos interferir no final da impressão adicionando mais uma entrada ao print. No exemplo, finalizamos cada linha com um espaço em branco:\n```python\nprint(\"Texto qualquer\", end = \" \")\n```",
      "metadata": {}
    },
    {
      "id": "a60ef197",
      "cell_type": "code",
      "source": "## Escreva e execute seu código aqui\ny = int(input(\"Qual a altura do campo? \"))\nx = int(input(\"Qual a largura do campo? \"))\nlarg = \"  \"\nfor l in range(1, x+1):\n    larg = larg + str(l) + \" \"\nprint(larg)\nfor h in range(1, y+1):\n    print(f\"{h}{(\" \" + \"/\") *x}\")",
      "metadata": {
        "trusted": true
      },
      "outputs": [
        {
          "output_type": "stream",
          "name": "stdin",
          "text": "Qual a altura do campo?  5\nQual a largura do campo?  4\n"
        },
        {
          "name": "stdout",
          "output_type": "stream",
          "text": "  1 2 3 4 \n1 / / / /\n2 / / / /\n3 / / / /\n4 / / / /\n5 / / / /\n"
        }
      ],
      "execution_count": 66
    },
    {
      "id": "4654dc0b",
      "cell_type": "markdown",
      "source": "---\n## Break e Continue",
      "metadata": {}
    },
    {
      "id": "24fe9d85",
      "cell_type": "markdown",
      "source": "### Q6.\n\nEscreva um programa que lê uma quantidade indefinida de valores e informa o maior e o menor valor digitados. A leitura é encerrada quando o usuário digitar o valor 0 (zero).\n\n```\nEntrada:\n12\n-1\n29\n11\n-5\n0\n\nSaída:\nMaior: 29\nMenor: -5\n```",
      "metadata": {}
    },
    {
      "id": "ee1c466a",
      "cell_type": "code",
      "source": "## Escreva e execute seu código aqui\nquant = int(input(\"Quantos números serão lidos? \"))\nmenor = int(input(\"Digite o 1° número \"))\nmaior = menor\nfor i in range(2, quant + 1):\n    val = int(input(f\"Digite o {i}° número \"))\n    if val > maior:\n        maior = val\n    elif val < menor:\n        menor = val\nprint(f\"Maior: {maior}\")\nprint(f\"Menor: {menor}\")",
      "metadata": {
        "trusted": true
      },
      "outputs": [
        {
          "output_type": "stream",
          "name": "stdin",
          "text": "Quantos números serão lidos?  3\nDigite o 1° número  1\nDigite o 2° número  9\nDigite o 3° número  5\n"
        },
        {
          "name": "stdout",
          "output_type": "stream",
          "text": "Maior: 9\nMenor: 1\n"
        }
      ],
      "execution_count": 70
    },
    {
      "id": "30d486f7",
      "cell_type": "markdown",
      "source": "### Q7.\n\nEscreva um programa que lê uma quantidade indefinida de valores e informa o **produto** dos valores positivos digitados. A leitura é encerrada quando o usuário digitar o valor 0 (zero).\n\n```\nEntrada:\n2\n-1\n1\n3\n-5\n0\n\nSaída:\nProduto: 6\n```",
      "metadata": {}
    },
    {
      "id": "2f1ac324",
      "cell_type": "code",
      "source": "## Escreva e execute seu código aqui\nmul = 1\nn = -1\nprint(\"Digite os valores a serem multiplicados\" )\nprint(\"Os valores positivos serão multiplicados\")\nprint(\"Equanto os negativos ignorados\")\nprint(\"Digite '0' para parar o codígo\")\nwhile 1:\n    n = int(input())\n    if n < 0:\n        continue\n    elif n > 0:\n        mul *= n\n    else:\n        break\nprint(f\"Produto: {mul}\")",
      "metadata": {
        "trusted": true
      },
      "outputs": [
        {
          "name": "stdout",
          "output_type": "stream",
          "text": "Digite os valores a serem multiplicados\nOs valores positivos serão multiplicados\nEquanto os negativos ignorados\nDigite '0' para parar o codígo\n"
        },
        {
          "output_type": "stream",
          "name": "stdin",
          "text": " 15\n -5\n 10\n -25\n 0\n"
        },
        {
          "name": "stdout",
          "output_type": "stream",
          "text": "Produto: 150\n"
        }
      ],
      "execution_count": 71
    },
    {
      "id": "e932f3cf",
      "cell_type": "markdown",
      "source": "### Q8.\n\nVamos fazer uma calculadora que aceita expressões aritméticas de qualquer tamanho até que o usuário digite a palavra \"Fim\". Sua calculadora executa apenas as operações \"+\", \"-\".\n\n```\nEntrada:\n5\n+\n8\n-\n3\n+\n2\nFim\n\nSaída:\n12\n```",
      "metadata": {}
    },
    {
      "id": "e835d870",
      "cell_type": "code",
      "source": "## Escreva e execute seu código aqui\ntotal = 0\nwhile 1:\n    num = int(input())\n    opera = input()\n    if opera == \"Fim\":\n        if opera1 == \"+\":\n            total += num\n        elif opera1 == \"-\":\n            total -= num\n        break\n    elif opera == \"+\":\n        total += num\n        opera1 = opera\n    elif opera == \"-\":\n        total -= num\n        opera1 = opera\n    else:\n        print(f\"A operação '{opera}' é invalida\")\n        break\nprint(total)",
      "metadata": {
        "trusted": true
      },
      "outputs": [
        {
          "output_type": "stream",
          "name": "stdin",
          "text": " 5\n +\n 3\n +\n 5\n -\n 6\n -\n 2\n Fim\n"
        },
        {
          "name": "stdout",
          "output_type": "stream",
          "text": "-5\n"
        }
      ],
      "execution_count": 72
    },
    {
      "id": "ec7de750-3942-46f3-b634-9baeb3387082",
      "cell_type": "code",
      "source": "",
      "metadata": {
        "trusted": true
      },
      "outputs": [],
      "execution_count": null
    }
  ]
}
