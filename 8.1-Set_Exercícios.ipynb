{
  "metadata": {
    "kernelspec": {
      "name": "python",
      "display_name": "Python (Pyodide)",
      "language": "python"
    },
    "language_info": {
      "codemirror_mode": {
        "name": "python",
        "version": 3
      },
      "file_extension": ".py",
      "mimetype": "text/x-python",
      "name": "python",
      "nbconvert_exporter": "python",
      "pygments_lexer": "ipython3",
      "version": "3.8"
    }
  },
  "nbformat_minor": 5,
  "nbformat": 4,
  "cells": [
    {
      "id": "0d5035b5",
      "cell_type": "markdown",
      "source": "# Set\n\n## Aula 8.1",
      "metadata": {}
    },
    {
      "id": "0bdece85",
      "cell_type": "markdown",
      "source": "### Q1. \n\nDada uma string qualquer, use seu conhecimento de sets para apresentar os caracteres únicos que aparecem na string, ordenados alfabeticamente e sem duplicatas. Preste atenção em duplicatas de maiúsculas e minúsculas.\n",
      "metadata": {}
    },
    {
      "id": "0a258eba",
      "cell_type": "code",
      "source": "frase = \"O rato roeu a roupa do Robson\"\n\n## Implemente aqui sua solução\nfrase_min = frase.lower()\nx = sorted(set(frase_min))\nx.remove(\" \")\nprint(x)",
      "metadata": {
        "trusted": true
      },
      "outputs": [
        {
          "name": "stdout",
          "output_type": "stream",
          "text": "['a', 'b', 'd', 'e', 'n', 'o', 'p', 'r', 's', 't', 'u']\n"
        }
      ],
      "execution_count": 2
    },
    {
      "id": "0856bd56",
      "cell_type": "markdown",
      "source": "### Q2\n\nDesenvolva uma função em Python chamada ```tem_elementos_comuns()``` que recebe duas listas como parâmetros e retorna True se houver algum elemento comum entre as duas listas, e False caso contrário. Utilize sets para resolver essa tarefa.",
      "metadata": {}
    },
    {
      "id": "f7ab6736",
      "cell_type": "code",
      "source": "# Implemente aqui a função tem_elementos_comuns()\n\ndef tem_elementos_comuns(x, y):\n    if len(set(x) & set(y)) > 0:\n        return True\n    return False",
      "metadata": {
        "trusted": true
      },
      "outputs": [],
      "execution_count": 5
    },
    {
      "id": "1022744a",
      "cell_type": "code",
      "source": "# Execute esta célula para testar a função da Q2.\n\nlista1 = [1, 2, 3, 4]\nlista2 = [3, 4, 5, 6, 7]\nresultado = tem_elementos_comuns(lista1, lista2)\nprint(resultado)  # Saída esperada: True",
      "metadata": {
        "trusted": true
      },
      "outputs": [
        {
          "name": "stdout",
          "output_type": "stream",
          "text": "True\n"
        }
      ],
      "execution_count": 8
    },
    {
      "id": "649a5082",
      "cell_type": "markdown",
      "source": "### Q3. \n\nVocê vai coletar de diferentes turmas de alunos seus interesses em atividades extra curriculares dentre futebol, vôlei, rugby, música, teatro, ações comunitárias. Informe o conjunto de atividades comuns a todas a turmas. Pode preencher o iterável turmas com valores arbitrários. \n",
      "metadata": {}
    },
    {
      "id": "880a9927",
      "cell_type": "code",
      "source": "turmas = [\n     {'ações comunitárias', 'futebol', 'música', 'rugby'},\n     {'ações comunitárias', 'música', 'rugby', 'teatro'},\n     {'música', 'rugby', 'teatro', 'vôlei'},\n     {'música', 'vôlei', 'rugby'},\n     {'ações comunitárias', 'futebol', 'rugby', 'teatro', 'vôlei'},\n     {'ações comunitárias', 'futebol', 'rugby'},\n     {'ações comunitárias', 'rugby', 'teatro', 'vôlei'},\n     {'ações comunitárias', 'rugby', 'teatro', 'vôlei'},\n     {'ações comunitárias', 'rugby', 'vôlei'}\n]\n\n\n## Implemente aqui sua solução\n\ncomum = turmas[0] & turmas[1] & turmas[2] & turmas[3] & turmas[4] & turmas[5] & turmas[6] & turmas[7] & turmas[8]\nprint(comum)",
      "metadata": {
        "trusted": true
      },
      "outputs": [
        {
          "name": "stdout",
          "output_type": "stream",
          "text": "{'rugby'}\n"
        }
      ],
      "execution_count": 9
    },
    {
      "id": "021e2b1e",
      "cell_type": "markdown",
      "source": "### Q4. \nConsidere duas listas que são duplicatas uma da outra, exceto por um elemento, exemplo:\n```\nA = [1, 4, 5, 7, 9]\nB = [4, 5, 7, 9]\n```\n\nEncontre e apresente o elemento diferente, informando também qual das listas está desfalcada. Para o exemplo acima, a saída esperada é\n```\nO elemento 1 está faltando na segunda lista\n```",
      "metadata": {}
    },
    {
      "id": "608761a4",
      "cell_type": "code",
      "source": "## Implemente aqui sua solução\na = [1, 4, 5, 7, 9]\nb = [4, 5, 7, 9]\ndiferente = list(set(a) ^ set(b))\nif diferente[0] in a:\n    print(f\"O elemento {diferente[0]} está faltando na segunda lista\")\nelse:\n    print(f\"O elemento {diferente[0]} está faltando na primeira lista\")",
      "metadata": {
        "trusted": true
      },
      "outputs": [
        {
          "name": "stdout",
          "output_type": "stream",
          "text": "O elemento 1 está faltando na segunda lista\n"
        }
      ],
      "execution_count": 33
    },
    {
      "id": "ddf180c1",
      "cell_type": "markdown",
      "source": "### Q5.\n\nPanagramas são frases que contém todas as letras do alfabeto pelo menos uma vez. Crie uma função ```checa_panagrama``` que recebe uma string e retorna ```True``` caso seja um panagrama ou ```False```caso contrário. Use seu conhecimento de sets para solucionar essa questão.\n\nEx: \n```\nEntrada: \"The quick brown fox jumps over the lazy dog\" \nSaída: É um panagrama\n```\n\n```\nEntrada: \"Python é uma linguagem de programação\" \nSaída: Não é um panagrama\n```",
      "metadata": {}
    },
    {
      "id": "4e8b0390",
      "cell_type": "code",
      "source": "## Implemente aqui sua solução\n#Funçõa\ndef checa_panagrama(x):\n    a = {\"a\",\"b\",\"c\",\"d\",\"e\",\"f\",\"g\",\"h\",\"i\",\"j\",\"k\",\"l\",\"m\",\"n\",\"o\",\"p\",\"q\",\"r\",\"s\",\"t\",\"u\",\"v\",\"w\",\"x\",\"y\",\"z\"}\n    if sorted(set(x.strip())) == sorted(a):\n        print(set(x))\n        print(a)\n        return True\n    return False\n\n#Código\nfrase = input(\"Digite a frase: \")\nif checa_panagrama(frase):\n    print(\"É um panagrama\")\nelse:\n    print(\"Não é um panagrama\")",
      "metadata": {
        "trusted": true
      },
      "outputs": [
        {
          "output_type": "stream",
          "name": "stdin",
          "text": "Digite a frase:  The quick brown fox jumps over the lazy dog\n"
        },
        {
          "name": "stdout",
          "output_type": "stream",
          "text": "Não é um panagrama\n"
        }
      ],
      "execution_count": 38
    },
    {
      "id": "7eb22f89-7f7e-48a7-abb0-2211d81856e9",
      "cell_type": "code",
      "source": "",
      "metadata": {
        "trusted": true
      },
      "outputs": [],
      "execution_count": null
    }
  ]
}